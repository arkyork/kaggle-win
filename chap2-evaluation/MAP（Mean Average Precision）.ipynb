{
 "cells": [
  {
   "cell_type": "code",
   "execution_count": 2,
   "metadata": {},
   "outputs": [],
   "source": [
    "# MAP@K\n",
    "# k個の予測　高い順\n",
    "# 上位 k件 k-\n",
    "import numpy as np"
   ]
  },
  {
   "cell_type": "markdown",
   "metadata": {},
   "source": [
    "$MAP_K = \\displaystyle\\frac{1}{N}\\sum_i\\left(\\frac{1}{min(m_i,K)}\\sum_k P(k) \\right)$"
   ]
  },
  {
   "cell_type": "code",
   "execution_count": 3,
   "metadata": {},
   "outputs": [],
   "source": [
    "y_true = [ [1,2],[1,2],[4],[1,2,3,4],[3,4] ]\n",
    "y_pred = [ [1,2,4],[4,1,2],[1,4,3],[1,2,3],[1,2,4] ]"
   ]
  },
  {
   "cell_type": "code",
   "execution_count": 6,
   "metadata": {},
   "outputs": [
    {
     "data": {
      "text/plain": [
       "array([], dtype=float64)"
      ]
     },
     "execution_count": 6,
     "metadata": {},
     "output_type": "execute_result"
    }
   ],
   "source": [
    "data"
   ]
  },
  {
   "cell_type": "code",
   "execution_count": 39,
   "metadata": {},
   "outputs": [],
   "source": [
    "def cal_k(K,y_true,y_pred):\n",
    "    # どちらかの条件が満たされなければ AssertionError\n",
    "    assert (len(y_pred) <= K)\n",
    "    assert (len(np.unique(y_pred)) == len(y_pred) )\n",
    "    \n",
    "    prob_total = 0\n",
    "    hits = 0\n",
    "    for i,p in enumerate(y_pred):\n",
    "        # pが含まれていなければ0になる\n",
    "        if p in y_true:\n",
    "            hits += 1\n",
    "            prob = hits / (i + 1)\n",
    "            prob_total += prob\n",
    "    return prob_total / min(len(y_true),K)\n",
    "def map_k(K,y_true,y_pred):\n",
    "    data = np.array([])\n",
    "    \n",
    "    for truth,prediction in zip(y_true,y_pred):\n",
    "        data = np.append(data, cal_k(K,truth,prediction))\n",
    "\n",
    "    print(np.mean(data))"
   ]
  },
  {
   "cell_type": "code",
   "execution_count": 40,
   "metadata": {},
   "outputs": [
    {
     "name": "stdout",
     "output_type": "stream",
     "text": [
      "0.6499999999999999\n"
     ]
    }
   ],
   "source": [
    "K = 3\n",
    "\n",
    "map_k(K,y_true,y_pred)"
   ]
  },
  {
   "cell_type": "code",
   "execution_count": null,
   "metadata": {},
   "outputs": [],
   "source": []
  }
 ],
 "metadata": {
  "kernelspec": {
   "display_name": "kaggle",
   "language": "python",
   "name": "python3"
  },
  "language_info": {
   "codemirror_mode": {
    "name": "ipython",
    "version": 3
   },
   "file_extension": ".py",
   "mimetype": "text/x-python",
   "name": "python",
   "nbconvert_exporter": "python",
   "pygments_lexer": "ipython3",
   "version": "3.10.18"
  },
  "orig_nbformat": 4
 },
 "nbformat": 4,
 "nbformat_minor": 2
}
